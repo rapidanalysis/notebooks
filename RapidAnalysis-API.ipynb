{
 "cells": [
  {
   "cell_type": "code",
   "execution_count": 2,
   "id": "3a2554c4-9fdd-4e3e-9b73-87d28021ba73",
   "metadata": {},
   "outputs": [
    {
     "data": {
      "text/html": [
       "<img src=\"http://weburban-uploads.s3-website-ap-southeast-2.amazonaws.com/2964c9dc-dfcf-4a01-957f-d5c52f1825e0.jpg\"/>"
      ],
      "text/plain": [
       "<IPython.core.display.Image object>"
      ]
     },
     "execution_count": 2,
     "metadata": {},
     "output_type": "execute_result"
    }
   ],
   "source": [
    "upload_endpoint = 'image/upload'\n",
    "\n",
    "h = {\n",
    "    'x-api-key': apiKey, \n",
    "    'Content-Type': 'image/jpeg',\n",
    "}\n",
    "\n",
    "response = requests.post(root + upload_endpoint, data=open(image_path,'rb'), headers = h)\n",
    "imageID = response.json()['image']\n",
    "Image(url = upload_server + imageID + '.jpg')"
   ]
  },
  {
   "cell_type": "markdown",
   "id": "58629e9b-b269-4c05-a560-edb98b1f5f4b",
   "metadata": {},
   "source": [
    "### Setup Parameters"
   ]
  },
  {
   "cell_type": "code",
   "execution_count": 9,
   "id": "b8706e1c-4460-429a-8fe5-3028d15b2ad9",
   "metadata": {},
   "outputs": [],
   "source": [
    "import requests\n",
    "from IPython.display import Image, display, HTML\n",
    "\n",
    "root = 'https://api.weburban.com/'\n",
    "apiKey = ''"
   ]
  },
  {
   "cell_type": "markdown",
   "id": "d9ba24a5-660d-450a-8361-43e00ae2f528",
   "metadata": {},
   "source": [
    "### Image k-Means analysis endpoint\n",
    "Colours are extracted using k-means analysis and output as RGB values, with their frequency.\\\n",
    "`k` : the number of colours extracted\\\n",
    "`imageUrl` : the url for the image to be analysed"
   ]
  },
  {
   "cell_type": "code",
   "execution_count": 3,
   "id": "cf2ac1b7-258a-4823-b760-bccd56e1d186",
   "metadata": {},
   "outputs": [
    {
     "data": {
      "text/html": [
       "<img src=\"https://weburban-uploads-raw.s3.ap-southeast-2.amazonaws.com/poster.jpg\" width=\"700\"/>"
      ],
      "text/plain": [
       "<IPython.core.display.Image object>"
      ]
     },
     "execution_count": 3,
     "metadata": {},
     "output_type": "execute_result"
    }
   ],
   "source": [
    "image_analysis_endpoint = 'image/kmeans-palette'\n",
    "imageUrl = 'https://weburban-uploads-raw.s3.ap-southeast-2.amazonaws.com/poster.jpg'\n",
    "\n",
    "h = {\n",
    "    'x-api-key': apiKey\n",
    "}\n",
    "\n",
    "json_request = { \n",
    "    'k': 16, \n",
    "    'imageUrl': imageUrl\n",
    "}\n",
    "\n",
    "response = requests.post(root + image_analysis_endpoint, json=json_request, headers = h)\n",
    "output = response.json()\n",
    "Image(url = imageUrl, width=700)"
   ]
  },
  {
   "cell_type": "code",
   "execution_count": 4,
   "id": "ce321ec8-5bb2-4c74-a746-46ae1fac621d",
   "metadata": {},
   "outputs": [
    {
     "data": {
      "text/plain": [
       "[{'frequency': 47024, 'RGB': {'R': 70, 'G': 101, 'B': 118}},\n",
       " {'frequency': 63968, 'RGB': {'R': 186, 'G': 128, 'B': 59}},\n",
       " {'frequency': 78034, 'RGB': {'R': 137, 'G': 87, 'B': 40}},\n",
       " {'frequency': 78351, 'RGB': {'R': 208, 'G': 156, 'B': 92}},\n",
       " {'frequency': 81176, 'RGB': {'R': 75, 'G': 72, 'B': 61}},\n",
       " {'frequency': 83014, 'RGB': {'R': 132, 'G': 128, 'B': 102}},\n",
       " {'frequency': 89061, 'RGB': {'R': 82, 'G': 51, 'B': 25}},\n",
       " {'frequency': 94828, 'RGB': {'R': 174, 'G': 171, 'B': 139}},\n",
       " {'frequency': 97405, 'RGB': {'R': 223, 'G': 189, 'B': 124}},\n",
       " {'frequency': 108125, 'RGB': {'R': 32, 'G': 71, 'B': 102}},\n",
       " {'frequency': 131802, 'RGB': {'R': 242, 'G': 202, 'B': 93}},\n",
       " {'frequency': 238762, 'RGB': {'R': 205, 'G': 54, 'B': 26}},\n",
       " {'frequency': 263672, 'RGB': {'R': 248, 'G': 209, 'B': 51}},\n",
       " {'frequency': 276944, 'RGB': {'R': 40, 'G': 29, 'B': 21}},\n",
       " {'frequency': 495283, 'RGB': {'R': 232, 'G': 211, 'B': 159}},\n",
       " {'frequency': 721671, 'RGB': {'R': 235, 'G': 217, 'B': 173}}]"
      ]
     },
     "execution_count": 4,
     "metadata": {},
     "output_type": "execute_result"
    }
   ],
   "source": [
    "output['Output']"
   ]
  },
  {
   "cell_type": "markdown",
   "id": "06b3cfed-ec5e-411f-8d38-83c05aea29ce",
   "metadata": {},
   "source": [
    "Here is a simple execution of html code styling of the RGB info returned."
   ]
  },
  {
   "cell_type": "code",
   "execution_count": 5,
   "id": "73e227f3-7e0b-49cf-899d-5e2ec5b29731",
   "metadata": {},
   "outputs": [
    {
     "data": {
      "text/html": [
       "<div style=\"float:left;height:100px;width:50px;background-color:rgba(70,101,118);\"\"></div><div style=\"float:left;height:100px;width:50px;background-color:rgba(186,128,59);\"\"></div><div style=\"float:left;height:100px;width:50px;background-color:rgba(137,87,40);\"\"></div><div style=\"float:left;height:100px;width:50px;background-color:rgba(208,156,92);\"\"></div><div style=\"float:left;height:100px;width:50px;background-color:rgba(75,72,61);\"\"></div><div style=\"float:left;height:100px;width:50px;background-color:rgba(132,128,102);\"\"></div><div style=\"float:left;height:100px;width:50px;background-color:rgba(82,51,25);\"\"></div><div style=\"float:left;height:100px;width:50px;background-color:rgba(174,171,139);\"\"></div><div style=\"float:left;height:100px;width:50px;background-color:rgba(223,189,124);\"\"></div><div style=\"float:left;height:100px;width:50px;background-color:rgba(32,71,102);\"\"></div><div style=\"float:left;height:100px;width:50px;background-color:rgba(242,202,93);\"\"></div><div style=\"float:left;height:100px;width:50px;background-color:rgba(205,54,26);\"\"></div><div style=\"float:left;height:100px;width:50px;background-color:rgba(248,209,51);\"\"></div><div style=\"float:left;height:100px;width:50px;background-color:rgba(40,29,21);\"\"></div><div style=\"float:left;height:100px;width:50px;background-color:rgba(232,211,159);\"\"></div><div style=\"float:left;height:100px;width:50px;background-color:rgba(235,217,173);\"\"></div>"
      ],
      "text/plain": [
       "<IPython.core.display.HTML object>"
      ]
     },
     "metadata": {},
     "output_type": "display_data"
    }
   ],
   "source": [
    "html_string = \"\"\n",
    "for color in output['Output']:\n",
    "    html_string += '<div style=\\\"float:left;height:100px;width:50px;background-color:rgba({0},{1},{2});\\\"\"></div>'.format(\n",
    "        color['RGB']['R'],\n",
    "        color['RGB']['G'],\n",
    "        color['RGB']['B']\n",
    "    )\n",
    "    \n",
    "display( HTML(html_string) )"
   ]
  },
  {
   "cell_type": "markdown",
   "id": "32a2e70c-d049-4882-98a8-db6025c9a7d2",
   "metadata": {},
   "source": [
    "### Image to text recognition analysis endpoint\n",
    "Text is extracted from an image with a response as a simple list of text or as complex as text and positional data.\\\n",
    "`response` : either `simple` or `complex`\\\n",
    "`imageUrl` : the url for the image to be analysed"
   ]
  },
  {
   "cell_type": "code",
   "execution_count": 6,
   "id": "eb780986-64b8-46b9-98b8-b6d67252646a",
   "metadata": {},
   "outputs": [
    {
     "data": {
      "text/html": [
       "<img src=\"https://weburban-uploads-raw.s3.ap-southeast-2.amazonaws.com/poster.jpg\" width=\"700\"/>"
      ],
      "text/plain": [
       "<IPython.core.display.Image object>"
      ]
     },
     "execution_count": 6,
     "metadata": {},
     "output_type": "execute_result"
    }
   ],
   "source": [
    "image_analysis_endpoint = 'image/to-text'\n",
    "imageUrl = 'https://weburban-uploads-raw.s3.ap-southeast-2.amazonaws.com/poster.jpg'\n",
    "\n",
    "h = {\n",
    "    'x-api-key': apiKey\n",
    "}\n",
    "\n",
    "json_request = { \n",
    "    'response': 'simple', \n",
    "    'imageUrl': imageUrl\n",
    "}\n",
    "\n",
    "response = requests.post(root + image_analysis_endpoint, json=json_request, headers = h)\n",
    "output = response.json()\n",
    "Image(url = imageUrl, width=700)"
   ]
  },
  {
   "cell_type": "code",
   "execution_count": 7,
   "id": "b8e721f5-8b13-4db0-997c-6c792844b77d",
   "metadata": {},
   "outputs": [
    {
     "data": {
      "text/plain": [
       "{'Version': '1.0',\n",
       " 'Output': {'text': ['HUMPHREY',\n",
       "   'INGRID',\n",
       "   'PAUL',\n",
       "   'BOGART BERGMAN HENREID',\n",
       "   'Presented by',\n",
       "   'WARNER',\n",
       "   'BROS.',\n",
       "   'A HAL B. WALLIS',\n",
       "   'PRODUCTION',\n",
       "   'blanca',\n",
       "   'B',\n",
       "   'HUMPHREY',\n",
       "   'INGRID',\n",
       "   'PAUL',\n",
       "   'BOGART',\n",
       "   'BERGMAN',\n",
       "   'HENREID',\n",
       "   'Presented',\n",
       "   'by',\n",
       "   'WARNER',\n",
       "   'BROS.',\n",
       "   'A',\n",
       "   'HAL',\n",
       "   'B.',\n",
       "   'WALLIS',\n",
       "   'PRODUCTION',\n",
       "   'blanca',\n",
       "   'B']}}"
      ]
     },
     "execution_count": 7,
     "metadata": {},
     "output_type": "execute_result"
    }
   ],
   "source": [
    "output"
   ]
  },
  {
   "cell_type": "markdown",
   "id": "4cb814e3-d2c1-4279-99d6-04a7b4de40d4",
   "metadata": {},
   "source": [
    "### Measure text similarity using Hashing Vectorizer for text embeddings\n",
    "`text1` is a paragraph of text, and `text2` is a different paragraph. You can measure their similarity using this function."
   ]
  },
  {
   "cell_type": "code",
   "execution_count": 8,
   "id": "c9f6b7ca-0ccb-4b76-b9ec-9c118275c6cf",
   "metadata": {},
   "outputs": [
    {
     "data": {
      "text/plain": [
       "0.35410435444192456"
      ]
     },
     "execution_count": 8,
     "metadata": {},
     "output_type": "execute_result"
    }
   ],
   "source": [
    "image_analysis_endpoint = 'text/to-vector'\n",
    "text1 = 'This guide describes best practices in using eye tracking technology for research in a variety of disciplines. A basic outline of the anatomy and physiology of the eyes and of eye movements is provided, along with a description of the sorts of research questions eye tracking can address. We then explain how eye tracking technology works and what sorts of data it generates, and provide guidance on how to select and use an eye tracker as well as selecting appropriate eye tracking measures. Challenges to the validity of eye tracking studies are described, along with recommendations for overcoming these challenges. We then outline correct reporting standards for eye tracking studies.'\n",
    "text2 = 'Participants following spoken instructions to touch or move either real objects or objects on a computer screen make saccadic eye movements (to the objects) that are closely time-locked to relevant information in the speech stream. Monitoring eye movements using a head-mounted eye-camera allows one to use the locations and latencies of fixations to examine spoken word recognition during continuous speech in natural contexts. Preliminary work using this paradigm provides striking evidence for the continuous and incremental nature of comprehension, as well as clear effects of visual context on the earliest moments of linguistic processing. We review the eye-movement paradigm and refer to recent experiments applying the paradigm to issues of spoken word recognition (e.g. lexical competitor effects), syntactic processing (e.g. the interaction of referential context and ambiguity resolution), reference resolution (disambiguating temporarily ambiguous referential phrases), focus (modulating the salience of certain objects via contrastive stress), as well as issues in cross-modality integration that are central to evaluating the modularity hypothesis.'\n",
    "n_features = 100\n",
    "\n",
    "h = {\n",
    "    'x-api-key': apiKey\n",
    "}\n",
    "\n",
    "json_request = { \n",
    "    'n_features': n_features, \n",
    "    'text1': text1,\n",
    "    'text2': text2\n",
    "}\n",
    "\n",
    "response = requests.post(root + image_analysis_endpoint, json=json_request, headers = h)\n",
    "output = response.json()\n",
    "\n",
    "# bray curtis dissimilarity between text1 and text2\n",
    "output['Output']['braycurtis_dissimilarity']"
   ]
  },
  {
   "cell_type": "code",
   "execution_count": null,
   "id": "7011569e-7323-4e75-8291-a4fc4a214891",
   "metadata": {},
   "outputs": [],
   "source": []
  }
 ],
 "metadata": {
  "kernelspec": {
   "display_name": "Python 3 (ipykernel)",
   "language": "python",
   "name": "python3"
  },
  "language_info": {
   "codemirror_mode": {
    "name": "ipython",
    "version": 3
   },
   "file_extension": ".py",
   "mimetype": "text/x-python",
   "name": "python",
   "nbconvert_exporter": "python",
   "pygments_lexer": "ipython3",
   "version": "3.8.17"
  }
 },
 "nbformat": 4,
 "nbformat_minor": 5
}
